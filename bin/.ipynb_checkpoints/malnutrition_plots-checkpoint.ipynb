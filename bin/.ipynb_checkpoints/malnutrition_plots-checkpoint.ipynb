{
 "cells": [
  {
   "cell_type": "code",
   "execution_count": 7,
   "metadata": {
    "collapsed": true
   },
   "outputs": [],
   "source": [
    "# Script for plotting giardia taxa and diversity data\n",
    "import numpy as np\n",
    "import matplotlib.pylab as plt\n",
    "import pandas as pd"
   ]
  },
  {
   "cell_type": "code",
   "execution_count": 8,
   "metadata": {
    "collapsed": false
   },
   "outputs": [
    {
     "name": "stdout",
     "output_type": "stream",
     "text": [
      "             Unassigned     Other  Actinobacteria  Bacteroidetes  \\\n",
      "Description                                                        \n",
      "Weaned         0.101717  0.000000        0.000000       0.434259   \n",
      "dN (5d)        0.079739  0.000358        0.000000       0.134321   \n",
      "dPD (5d)       0.096483  0.000000        0.000000       0.379297   \n",
      "dN (8d)        0.072920  0.000000        0.000000       0.193560   \n",
      "dPD (8d)       0.116178  0.000000        0.000000       0.300788   \n",
      "dN (12d)       0.077568  0.000075        0.000000       0.176791   \n",
      "dPD (12d)      0.110535  0.000127        0.000000       0.363655   \n",
      "dN (15d)       0.079113  0.000000        0.000317       0.175360   \n",
      "dPD (15d)      0.114719  0.000000        0.000000       0.374293   \n",
      "\n",
      "             Cyanobacteria  Firmicutes  Proteobacteria  Tenericutes  \\\n",
      "Description                                                           \n",
      "Weaned                   0    0.439453        0.022406     0.002039   \n",
      "dN (5d)                  0    0.251943        0.411580     0.122060   \n",
      "dPD (5d)                 0    0.509833        0.003386     0.010690   \n",
      "dN (8d)                  0    0.228678        0.342612     0.161961   \n",
      "dPD (8d)                 0    0.422959        0.128256     0.031436   \n",
      "dN (12d)                 0    0.243673        0.308049     0.115993   \n",
      "dPD (12d)                0    0.331254        0.010119     0.006991   \n",
      "dN (15d)                 0    0.163241        0.407635     0.067068   \n",
      "dPD (15d)                0    0.249108        0.010133     0.004283   \n",
      "\n",
      "             Verrucomicrobia  \n",
      "Description                   \n",
      "Weaned              0.000127  \n",
      "dN (5d)             0.000000  \n",
      "dPD (5d)            0.000311  \n",
      "dN (8d)             0.000270  \n",
      "dPD (8d)            0.000383  \n",
      "dN (12d)            0.077851  \n",
      "dPD (12d)           0.177318  \n",
      "dN (15d)            0.107267  \n",
      "dPD (15d)           0.247464  \n"
     ]
    }
   ],
   "source": [
    "phyla_df = []\n",
    "phyla_df = pd.read_csv('../data/diet_map_all_samples_no_dZD_L2.txt',\\\n",
    "                      sep='\\t')\n",
    "# copy and collapse into mean\n",
    "descriptions = phyla_df['Description']\n",
    "description_dict = {'weaned':'Weaned',\\\n",
    " 'dN, 5 days':'dN (5d)',\\\n",
    " 'dN, 8 days':'dN (8d)',\\\n",
    " 'dN, 12 days':'dN (12d)',\\\n",
    " 'dN, 15 days':'dN (15d)',\\\n",
    " 'dPD, 5 days':'dPD (5d)',\\\n",
    " 'dPD, 8 days':'dPD (8d)',\\\n",
    " 'dPD, 12 days':'dPD (12d)',\\\n",
    " 'dPD, 15 days':'dPD (15d)'}\n",
    "phyla_w_c_labels = phyla_df.copy()\n",
    "phyla_w_c_labels = phyla_w_c_labels.replace({'Description':description_dict})\n",
    "phyla_w_c = phyla_w_c_labels.copy()\n",
    "phyla_w_c_labels = phyla_w_c_labels.drop('#SampleID',1)\n",
    "\n",
    "phyla_means = phyla_w_c_labels.groupby('Description', sort=False).mean()\n",
    "phyla_std = phyla_w_c_labels.groupby('Description', sort=False).std()\n",
    "#axes = phyla_w_c_labels.plot.bar(stacked=True)\n",
    "#plt.show()\n",
    "means_to_plot = {col:phyla_means[col].as_matrix() for col in list(phyla_means.columns)}\n",
    "std_to_plot = {col:phyla_std[col].as_matrix() for col in list(phyla_std.columns)}\n",
    "print phyla_means"
   ]
  },
  {
   "cell_type": "code",
   "execution_count": 12,
   "metadata": {
    "collapsed": false
   },
   "outputs": [
    {
     "ename": "AttributeError",
     "evalue": "'module' object has no attribute 'set_adjustable'",
     "output_type": "error",
     "traceback": [
      "\u001b[1;31m---------------------------------------------------------------------------\u001b[0m",
      "\u001b[1;31mAttributeError\u001b[0m                            Traceback (most recent call last)",
      "\u001b[1;32m<ipython-input-12-a165202adb94>\u001b[0m in \u001b[0;36m<module>\u001b[1;34m()\u001b[0m\n\u001b[0;32m     28\u001b[0m \u001b[0mplt\u001b[0m\u001b[1;33m.\u001b[0m\u001b[0myticks\u001b[0m\u001b[1;33m(\u001b[0m\u001b[0mnp\u001b[0m\u001b[1;33m.\u001b[0m\u001b[0marange\u001b[0m\u001b[1;33m(\u001b[0m\u001b[1;36m0\u001b[0m\u001b[1;33m,\u001b[0m \u001b[1;36m1.001\u001b[0m\u001b[1;33m,\u001b[0m \u001b[1;36m0.2\u001b[0m\u001b[1;33m)\u001b[0m\u001b[1;33m)\u001b[0m\u001b[1;33m\u001b[0m\u001b[0m\n\u001b[0;32m     29\u001b[0m \u001b[0mplt\u001b[0m\u001b[1;33m.\u001b[0m\u001b[0mylim\u001b[0m\u001b[1;33m(\u001b[0m\u001b[1;33m[\u001b[0m\u001b[1;36m0\u001b[0m\u001b[1;33m,\u001b[0m\u001b[1;36m1\u001b[0m\u001b[1;33m]\u001b[0m\u001b[1;33m)\u001b[0m\u001b[1;33m\u001b[0m\u001b[0m\n\u001b[1;32m---> 30\u001b[1;33m \u001b[0mplt\u001b[0m\u001b[1;33m.\u001b[0m\u001b[0mset_adjustable\u001b[0m\u001b[1;33m(\u001b[0m\u001b[1;34m'box-forced'\u001b[0m\u001b[1;33m)\u001b[0m\u001b[1;33m\u001b[0m\u001b[0m\n\u001b[0m\u001b[0;32m     31\u001b[0m \u001b[0mlgd\u001b[0m \u001b[1;33m=\u001b[0m \u001b[0mplt\u001b[0m\u001b[1;33m.\u001b[0m\u001b[0mlegend\u001b[0m\u001b[1;33m(\u001b[0m\u001b[0mbbox_to_anchor\u001b[0m\u001b[1;33m=\u001b[0m\u001b[1;33m(\u001b[0m\u001b[1;36m1\u001b[0m\u001b[1;33m,\u001b[0m\u001b[1;36m1\u001b[0m\u001b[1;33m)\u001b[0m\u001b[1;33m,\u001b[0m \u001b[0mloc\u001b[0m\u001b[1;33m=\u001b[0m\u001b[1;36m2\u001b[0m\u001b[1;33m)\u001b[0m\u001b[1;33m\u001b[0m\u001b[0m\n\u001b[0;32m     32\u001b[0m \u001b[0mplt\u001b[0m\u001b[1;33m.\u001b[0m\u001b[0msavefig\u001b[0m\u001b[1;33m(\u001b[0m\u001b[1;34m'phylum_level_relative_abundance'\u001b[0m\u001b[1;33m,\u001b[0m \u001b[0mbbox_extra_artists\u001b[0m\u001b[1;33m=\u001b[0m\u001b[1;33m(\u001b[0m\u001b[0mlgd\u001b[0m\u001b[1;33m,\u001b[0m\u001b[1;33m)\u001b[0m\u001b[1;33m,\u001b[0m \u001b[0mbbox_inches\u001b[0m\u001b[1;33m=\u001b[0m\u001b[1;34m'tight'\u001b[0m\u001b[1;33m)\u001b[0m\u001b[1;33m\u001b[0m\u001b[0m\n",
      "\u001b[1;31mAttributeError\u001b[0m: 'module' object has no attribute 'set_adjustable'"
     ]
    }
   ],
   "source": [
    "bars = {}\n",
    "numgroups = 9\n",
    "ind = np.arange(numgroups)\n",
    "width = 0.5\n",
    "tableau20 = [(31, 119, 180), (174, 199, 232), (255, 127, 14), (255, 187, 120),    \n",
    "             (44, 160, 44), (152, 223, 138), (214, 39, 40), (255, 152, 150),    \n",
    "             (148, 103, 189), (197, 176, 213), (140, 86, 75), (196, 156, 148),    \n",
    "             (227, 119, 194), (247, 182, 210), (127, 127, 127), (199, 199, 199),    \n",
    "             (188, 189, 34), (219, 219, 141), (23, 190, 207), (158, 218, 229)]    \n",
    "  \n",
    "# Scale the RGB values to the [0, 1] range, which is the format matplotlib accepts.    \n",
    "for i in range(len(tableau20)):    \n",
    "    r, g, b = tableau20[i]    \n",
    "    tableau20[i] = (r / 255., g / 255., b / 255.)\n",
    "    \n",
    "phyla_colors = {'Unassigned':tableau20[0],'Other':tableau20[1],'Actinobacteria':\\\n",
    "                tableau20[2],'Bacteroidetes':tableau20[3],'Cyanobacteria':tableau20[4],\\\n",
    "                'Firmicutes':tableau20[5],'Proteobacteria':tableau20[6],\\\n",
    "                'Tenericutes':tableau20[7],'Verrucomicrobia':tableau20[8]}\n",
    "previous_means = 0\n",
    "for phyla in means_to_plot.keys():\n",
    "    bars[phyla] = plt.bar(ind,means_to_plot[phyla],width,color=phyla_colors[phyla],\\\n",
    "                         bottom=previous_means, label=phyla)\n",
    "    previous_means = means_to_plot[phyla] + previous_means\n",
    "\n",
    "    \n",
    "\n",
    "plt.ylabel('Relative Abundance', fontsize=24)\n",
    "plt.xlabel('Group', fontsize=24)\n",
    "plt.title('Phylum-level relative abundance', fontsize=24)\n",
    "plt.xticks(ind + width/2., ('Weaned', 'dN (5d)', 'dPD (5d)', 'dN (8d)', 'dPD (8d)', 'dN (12d)',\\\n",
    "                            'dPD (12d)', 'dN (15d)', 'dPD (15d)'), rotation = 45)\n",
    "plt.yticks(np.arange(0, 1.001, 0.2))\n",
    "plt.ylim([0,1])\n",
    "lgd = plt.legend(bbox_to_anchor=(1,1), loc=2)\n",
    "plt.savefig('phylum_level_relative_abundance', bbox_extra_artists=(lgd,), bbox_inches='tight')\n",
    "plt.show()"
   ]
  }
 ],
 "metadata": {
  "kernelspec": {
   "display_name": "Python 2",
   "language": "python",
   "name": "python2"
  },
  "language_info": {
   "codemirror_mode": {
    "name": "ipython",
    "version": 2
   },
   "file_extension": ".py",
   "mimetype": "text/x-python",
   "name": "python",
   "nbconvert_exporter": "python",
   "pygments_lexer": "ipython2",
   "version": "2.7.10"
  }
 },
 "nbformat": 4,
 "nbformat_minor": 0
}
